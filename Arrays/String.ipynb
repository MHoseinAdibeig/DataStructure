{
 "cells": [
  {
   "cell_type": "markdown",
   "metadata": {},
   "source": [
    "# Python String"
   ]
  },
  {
   "cell_type": "markdown",
   "metadata": {},
   "source": [
    "## Length of a String"
   ]
  },
  {
   "cell_type": "markdown",
   "metadata": {},
   "source": [
    "### Using In-built methods"
   ]
  },
  {
   "cell_type": "markdown",
   "metadata": {},
   "source": [
    "### Writing your method"
   ]
  },
  {
   "cell_type": "code",
   "execution_count": 2,
   "metadata": {},
   "outputs": [
    {
     "name": "stdout",
     "output_type": "stream",
     "text": [
      "9\n"
     ]
    }
   ],
   "source": [
    "def get_length(s):\n",
    "    cnt = 0\n",
    "    for c in s:\n",
    "        cnt += 1\n",
    "        \n",
    "    return cnt\n",
    "\n",
    "s = \"MrAdibeig\"\n",
    "print(get_length(s))"
   ]
  },
  {
   "cell_type": "markdown",
   "metadata": {},
   "source": [
    "## Check if two strings are same or not"
   ]
  },
  {
   "cell_type": "markdown",
   "metadata": {},
   "source": [
    "### Using (==) in C++/Python"
   ]
  },
  {
   "cell_type": "code",
   "execution_count": 3,
   "metadata": {},
   "outputs": [
    {
     "name": "stdout",
     "output_type": "stream",
     "text": [
      "No\n"
     ]
    }
   ],
   "source": [
    "s1 = \"abc\"\n",
    "s2 = \"abcd\"\n",
    "\n",
    "if s1 == s2:\n",
    "    print(\"Yes\")\n",
    "    \n",
    "else:\n",
    "    print(\"No\")"
   ]
  },
  {
   "cell_type": "markdown",
   "metadata": {},
   "source": [
    "## Program to Search a Character in a String"
   ]
  },
  {
   "cell_type": "markdown",
   "metadata": {},
   "source": [
    "### By traversing the string - O(n) Time and O(1) Space"
   ]
  },
  {
   "cell_type": "code",
   "execution_count": 6,
   "metadata": {},
   "outputs": [
    {
     "name": "stdout",
     "output_type": "stream",
     "text": [
      "0\n"
     ]
    }
   ],
   "source": [
    "def findChar(s, ch):\n",
    "    n = len(s)\n",
    "    for i in range(n):\n",
    "        \n",
    "        if s[i] == ch:\n",
    "            return i \n",
    "    return -1\n",
    "\n",
    "if __name__ == \"__main__\":\n",
    "    s = \"MrAdibeig\"\n",
    "    ch = \"M\"\n",
    "    print(findChar(s, ch))"
   ]
  },
  {
   "cell_type": "markdown",
   "metadata": {},
   "source": [
    "## Insert a character in String at a Given Position"
   ]
  },
  {
   "cell_type": "markdown",
   "metadata": {},
   "source": [
    "### [Approach-1] Using Built-In Methods"
   ]
  },
  {
   "cell_type": "code",
   "execution_count": 7,
   "metadata": {},
   "outputs": [
    {
     "name": "stdout",
     "output_type": "stream",
     "text": [
      "MrAdibeig\n"
     ]
    }
   ],
   "source": [
    "def inserChar(s, c, pos):\n",
    "    return s[:pos] + c + s[pos:]\n",
    "\n",
    "s = \"Adibeig\"\n",
    "c = \"Mr\"\n",
    "pos = 0\n",
    "print(inserChar(s, c, pos))"
   ]
  },
  {
   "cell_type": "markdown",
   "metadata": {},
   "source": [
    "### [Approch-2] Using Custom Method"
   ]
  },
  {
   "cell_type": "code",
   "execution_count": 8,
   "metadata": {},
   "outputs": [
    {
     "name": "stdout",
     "output_type": "stream",
     "text": [
      "MrAdibeig\n"
     ]
    }
   ],
   "source": [
    "def insertChar(s, c, pos):\n",
    "    res = \"\"\n",
    "    for i in range(len(s)):\n",
    "        \n",
    "        if i == pos:\n",
    "            res += c\n",
    "            \n",
    "        res += s[i]\n",
    "    \n",
    "    \n",
    "    if pos >= len(s):\n",
    "        res += c\n",
    "        \n",
    "    return res\n",
    "s = \"Adibeig\"\n",
    "print(inserChar(s, \"Mr\", 0))\n",
    "    "
   ]
  },
  {
   "cell_type": "markdown",
   "metadata": {},
   "source": [
    "## Remove a Character from a Given Position"
   ]
  },
  {
   "cell_type": "markdown",
   "metadata": {},
   "source": [
    "### Using Built-In Methods"
   ]
  },
  {
   "cell_type": "code",
   "execution_count": 9,
   "metadata": {},
   "outputs": [
    {
     "name": "stdout",
     "output_type": "stream",
     "text": [
      "Output: acde\n"
     ]
    }
   ],
   "source": [
    "def remove_char_at_position(s, pos):\n",
    "    if pos < 0 or pos>= len(s):\n",
    "        return s\n",
    "    return s[:pos] + s[pos + 1:]\n",
    "\n",
    "s = \"abcde\"\n",
    "pos = 1\n",
    "print(\"Output:\", remove_char_at_position(s, pos))"
   ]
  },
  {
   "cell_type": "markdown",
   "metadata": {},
   "source": [
    "### Writing Your Own Method"
   ]
  },
  {
   "cell_type": "code",
   "execution_count": 13,
   "metadata": {},
   "outputs": [
    {
     "name": "stdout",
     "output_type": "stream",
     "text": [
      "acde\n"
     ]
    }
   ],
   "source": [
    "def remove_char_at_position(s, p):\n",
    "    if p<0 or p>=len(s):\n",
    "        return s\n",
    "    \n",
    "    # Convert string to list for mutable operations\n",
    "    s_list = list(s)\n",
    "    \n",
    "    # Shift characters to the left from the position\n",
    "    for i in range(p, len(s) - 1):\n",
    "        s_list[i] = s_list[i+1]\n",
    "        \n",
    "    # Remove the last character\n",
    "    s_list.pop()\n",
    "    return \"\".join(s_list)\n",
    "    \n",
    "s = \"abcde\"\n",
    "p = 1\n",
    "print(remove_char_at_position(s, p))"
   ]
  },
  {
   "cell_type": "markdown",
   "metadata": {},
   "source": [
    "## Insert characters in a string at a certain position"
   ]
  },
  {
   "cell_type": "markdown",
   "metadata": {},
   "source": [
    "### First approach"
   ]
  },
  {
   "cell_type": "code",
   "execution_count": 15,
   "metadata": {},
   "outputs": [
    {
     "name": "stdout",
     "output_type": "stream",
     "text": [
      "B*eauti*f*ul*MrAdibeig\n"
     ]
    }
   ],
   "source": [
    "def addStarts(s, stars):\n",
    "    \n",
    "    ans = \"\"\n",
    "    j = 0\n",
    "    \n",
    "    for i in range(len(s)):\n",
    "        if (j < len(stars) and i == stars[j]):\n",
    "            ans += '*'\n",
    "            j += 1\n",
    "        ans += s[i]\n",
    "    return ans\n",
    "\n",
    "if __name__ ==\"__main__\":\n",
    "    s = \"BeautifulMrAdibeig\"\n",
    "    pos = [1, 6, 7, 9]\n",
    "    print(addStarts(s, pos))\n",
    "    "
   ]
  },
  {
   "cell_type": "markdown",
   "metadata": {},
   "source": [
    "## Remove all occurrences of a character in a string"
   ]
  },
  {
   "cell_type": "markdown",
   "metadata": {},
   "source": [
    "### Using Built-In Methods"
   ]
  },
  {
   "cell_type": "code",
   "execution_count": 16,
   "metadata": {},
   "outputs": [
    {
     "name": "stdout",
     "output_type": "stream",
     "text": [
      "bbc\n"
     ]
    }
   ],
   "source": [
    "s = \"ababca\"\n",
    "c = \"a\"\n",
    "\n",
    "s = s.replace(\"a\", \"\")\n",
    "print(s)"
   ]
  },
  {
   "cell_type": "code",
   "execution_count": 17,
   "metadata": {},
   "outputs": [
    {
     "name": "stdout",
     "output_type": "stream",
     "text": [
      "1\n"
     ]
    }
   ],
   "source": [
    "s = \"geeksforgeeks\"\n",
    "print(s.index(\"e\"))"
   ]
  },
  {
   "cell_type": "markdown",
   "metadata": {},
   "source": [
    "### Writing Your Own Method"
   ]
  },
  {
   "cell_type": "markdown",
   "metadata": {},
   "source": [
    "## Reverse a string\n"
   ]
  },
  {
   "cell_type": "markdown",
   "metadata": {},
   "source": [
    "### Using backward traversal – O(n) Time and O(n) Space\n"
   ]
  },
  {
   "cell_type": "code",
   "execution_count": 18,
   "metadata": {},
   "outputs": [
    {
     "name": "stdout",
     "output_type": "stream",
     "text": [
      "efcdba\n"
     ]
    }
   ],
   "source": [
    "def reverseString(s):\n",
    "    res = []\n",
    "    \n",
    "    # Traverse on s in backward direction an add each character to the list\n",
    "    for i in range(len(s) - 1, -1, -1):\n",
    "        res.append(s[i])\n",
    "        \n",
    "    # Convert list back to string\n",
    "    return \"\".join(res)\n",
    "\n",
    "if __name__ == \"__main__\":\n",
    "    s = \"abdcfe\"\n",
    "    print(reverseString(s))"
   ]
  },
  {
   "cell_type": "markdown",
   "metadata": {},
   "source": [
    "### Using Two Pointers – O(n) Time and O(n) Space"
   ]
  },
  {
   "cell_type": "code",
   "execution_count": 19,
   "metadata": {},
   "outputs": [
    {
     "name": "stdout",
     "output_type": "stream",
     "text": [
      "efcdba\n"
     ]
    }
   ],
   "source": [
    "def reverseString(s):\n",
    "    left = 0\n",
    "    right = len(s) - 1\n",
    "    \n",
    "    s = list(s)\n",
    "    while left < right:\n",
    "        s[left], s[right] = s[right], s[left]\n",
    "        left += 1\n",
    "        right -= 1\n",
    "        \n",
    "    # Convert list back to string\n",
    "    \n",
    "    return \"\".join(s)\n",
    "\n",
    "if __name__ == \"__main__\":\n",
    "    s = \"abdcfe\"\n",
    "    print(reverseString(s))"
   ]
  },
  {
   "cell_type": "markdown",
   "metadata": {},
   "source": [
    "### Using Recursion – O(n) Time and O(n) Space"
   ]
  },
  {
   "cell_type": "code",
   "execution_count": 20,
   "metadata": {},
   "outputs": [
    {
     "name": "stdout",
     "output_type": "stream",
     "text": [
      "efcdba\n"
     ]
    }
   ],
   "source": [
    "def reverseStringRec(arr, l, r):\n",
    "    if l >= r:\n",
    "        return\n",
    "\n",
    "    # Swap the characters at the ends\n",
    "    arr[l], arr[r] = arr[r], arr[l]\n",
    "\n",
    "    # Recur for the remaining string\n",
    "    reverseStringRec(arr, l + 1, r - 1)\n",
    "\n",
    "def reverseString(s):\n",
    "  \n",
    "      # Convert string to list of characters\n",
    "    arr = list(s)  \n",
    "    reverseStringRec(arr, 0, len(arr) - 1)\n",
    "    \n",
    "    # Convert list back to string\n",
    "    return ''.join(arr)  \n",
    "\n",
    "if __name__ == \"__main__\":\n",
    "    s = \"abdcfe\"\n",
    "    print(reverseString(s))"
   ]
  },
  {
   "cell_type": "markdown",
   "metadata": {},
   "source": [
    "### Using Stack – O(n) Time and O(n) Space"
   ]
  },
  {
   "cell_type": "markdown",
   "metadata": {},
   "source": [
    "### Using Inbuilt methods – O(n) Time and O(1) Space"
   ]
  },
  {
   "cell_type": "code",
   "execution_count": 1,
   "metadata": {},
   "outputs": [
    {
     "name": "stdout",
     "output_type": "stream",
     "text": [
      "skeeGrofskeeG\n"
     ]
    }
   ],
   "source": [
    "\n",
    "s = \"GeeksforGeeks\"\n",
    "print(s[::-1])"
   ]
  },
  {
   "cell_type": "markdown",
   "metadata": {},
   "source": []
  }
 ],
 "metadata": {
  "kernelspec": {
   "display_name": "DScience",
   "language": "python",
   "name": "dscience"
  },
  "language_info": {
   "codemirror_mode": {
    "name": "ipython",
    "version": 3
   },
   "file_extension": ".py",
   "mimetype": "text/x-python",
   "name": "python",
   "nbconvert_exporter": "python",
   "pygments_lexer": "ipython3",
   "version": "3.10.4"
  }
 },
 "nbformat": 4,
 "nbformat_minor": 2
}
