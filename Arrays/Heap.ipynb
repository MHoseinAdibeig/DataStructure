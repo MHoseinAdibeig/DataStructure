{
 "cells": [
  {
   "cell_type": "markdown",
   "metadata": {},
   "source": [
    "# Heap data structure"
   ]
  },
  {
   "cell_type": "markdown",
   "metadata": {},
   "source": [
    "## Binary Heap\n",
    "\n",
    "A Binary Heap is a complete Binary Tree which is used to store data efficiently to get the max or min element based on its type. A Binary Heap is either Min Heap or Max Heap. In a Min Binary Heap, the key at the root must be minimum among all keys present in Binary Heap. The same property must be recursively true for all nodes in Binary Tree. Max Binary Heap is similar to Min Heap."
   ]
  },
  {
   "cell_type": "markdown",
   "metadata": {},
   "source": [
    "## Operations on Heap:\n",
    "\n",
    "**getMin():** It returns the root element of Min Heap. The time Complexity of this operation is O(1). In case of a maxheap it would be getMax().\n",
    "\n",
    "**extractMin():** Removes the minimum element from MinHeap. The time Complexity of this Operation is O(log N) as this operation needs to maintain the heap property (by calling heapify()) after removing the root.\n",
    "\n",
    "**decreaseKey():** Decreases the value of the key. The time complexity of this operation is O(log N). If the decreased key value of a node is greater than the parent of the node, then we don’t need to do anything. Otherwise, we need to traverse up to fix the violated heap property.\n",
    "\n",
    "**insert():** Inserting a new key takes O(log N) time. We add a new key at the end of the tree. If the new key is greater than its parent, then we don’t need to do anything. Otherwise, we need to traverse up to fix the violated heap property.\n",
    "\n",
    "**delete():** Deleting a key also takes O(log N) time. We replace the key to be deleted with the minimum infinite by calling decreaseKey(). After decreaseKey(), the minus infinite value must reach root, so we call extractMin() to remove the key.\n"
   ]
  },
  {
   "cell_type": "code",
   "execution_count": null,
   "metadata": {},
   "outputs": [],
   "source": [
    "# A Python program to demonstrate common binary heap operations\n",
    "\n",
    "# Import the heap functions from python library\n",
    "from heapq import heappush, heappop, heapify \n",
    "\n",
    "# heappop - pop and return the smallest element from heap\n",
    "# heappush - push the value item onto the heap, maintaining\n",
    "#             heap invarient\n",
    "# heapify - transform list into heap, in place, in linear time\n",
    "\n",
    "# A class for Min Heap\n",
    "class MinHeap:\n",
    "    \n",
    "    # Constructor to initialize a heap\n",
    "    def __init__(self):\n",
    "        self.heap = [] \n",
    "\n",
    "    def parent(self, i):\n",
    "        return (i-1)/2\n",
    "    \n",
    "    # Inserts a new key 'k'\n",
    "    def insertKey(self, k):\n",
    "        heappush(self.heap, k)           \n",
    "\n",
    "    # Decrease value of key at index 'i' to new_val\n",
    "    # It is assumed that new_val is smaller than heap[i]\n",
    "    def decreaseKey(self, i, new_val):\n",
    "        self.heap[i]  = new_val \n",
    "        while(i != 0 and self.heap[self.parent(i)] > self.heap[i]):\n",
    "            # Swap heap[i] with heap[parent(i)]\n",
    "            self.heap[i] , self.heap[self.parent(i)] = (\n",
    "            self.heap[self.parent(i)], self.heap[i])\n",
    "            \n",
    "    # Method to remove minimum element from min heap\n",
    "    def extractMin(self):\n",
    "        return heappop(self.heap)\n",
    "\n",
    "    # This function deletes key at index i. It first reduces\n",
    "    # value to minus infinite and then calls extractMin()\n",
    "    def deleteKey(self, i):\n",
    "        self.decreaseKey(i, float(\"-inf\"))\n",
    "        self.extractMin()\n",
    "\n",
    "    # Get the minimum element from the heap\n",
    "    def getMin(self):\n",
    "        return self.heap[0]\n",
    "\n",
    "# Driver pgoratm to test above function\n",
    "heapObj = MinHeap()\n",
    "heapObj.insertKey(3)\n",
    "heapObj.insertKey(2)\n",
    "heapObj.deleteKey(1)\n",
    "heapObj.insertKey(15)\n",
    "heapObj.insertKey(5)\n",
    "heapObj.insertKey(4)\n",
    "heapObj.insertKey(45)\n",
    "\n",
    "print heapObj.extractMin(),\n",
    "print heapObj.getMin(),\n",
    "heapObj.decreaseKey(2, 1)\n",
    "print heapObj.getMin()"
   ]
  },
  {
   "cell_type": "markdown",
   "metadata": {},
   "source": [
    "# Applications of Heap Data Structure\n",
    "\n",
    "Heap Data Structure is generally taught with Heapsort. Heapsort algorithm has limited uses because Quicksort is better in practice. Nevertheless, the Heap data structure itself is enormously used.\n",
    "\n",
    "\n",
    "1. **Priority Queues:** Heaps are commonly used to implement priority queues, where elements with higher priority are extracted first. This is useful in many applications such as scheduling tasks, handling interruptions, and processing events.\n",
    "\n",
    "2. **Sorting Algorithms:** Heapsort, a comparison-based sorting algorithm, is implemented using the Heap data structure. It has a time complexity of O(n log n), making it efficient for large datasets.\n",
    "\n",
    "3. **Graph algorithms:** Heaps are used in graph algorithms such as Prim’s Algorithm, Dijkstra’s algorithm., and the A* search algorithm.\n",
    "\n",
    "4. **Lossless Compression:** Heaps are used in data compression algorithms such as Huffman coding, which uses a priority queue implemented as a min-heap to build a Huffman tree.\n",
    "\n",
    "5. **Medical Applications:** In medical applications, heaps are used to store and manage patient information based on priority, such as vital signs, treatments, and test results.\n",
    "\n",
    "6. **Load balancing:** Heaps are used in load balancing algorithms to distribute tasks or requests to servers, by processing elements with the lowest load first.\n",
    "\n",
    "7. **Order statistics:** The Heap data structure can be used to efficiently find the kth smallest (or largest) element in an array. See method 4 and 6 of this post for details. \n",
    "\n",
    "8. **Resource allocation:** Heaps can be used to efficiently allocate resources in a system, such as memory blocks or CPU time, by assigning a \n",
    "priority to each resource and processing requests in order of priority.\n",
    "\n",
    "9. **Job scheduling:** The heap data structure is used in job scheduling algorithms, where tasks are scheduled based on their priority or deadline. The heap data structure allows efficient access to the highest-priority task, making it a useful data structure for job scheduling applications."
   ]
  },
  {
   "cell_type": "markdown",
   "metadata": {},
   "source": []
  }
 ],
 "metadata": {
  "kernelspec": {
   "display_name": "DScience",
   "language": "python",
   "name": "dscience"
  },
  "language_info": {
   "name": "python",
   "version": "3.10.4"
  }
 },
 "nbformat": 4,
 "nbformat_minor": 2
}
