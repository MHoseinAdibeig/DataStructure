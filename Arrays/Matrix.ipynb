{
 "cells": [
  {
   "cell_type": "markdown",
   "metadata": {},
   "source": [
    "# Matrix Data Structure"
   ]
  },
  {
   "cell_type": "markdown",
   "metadata": {},
   "source": [
    "## Declaration of Matrix Data Structure :\n",
    "\n"
   ]
  },
  {
   "cell_type": "code",
   "execution_count": 2,
   "metadata": {},
   "outputs": [
    {
     "name": "stdout",
     "output_type": "stream",
     "text": [
      "[[0, 0, 0], [0, 0, 0], [0, 0, 0]]\n"
     ]
    }
   ],
   "source": [
    "rows = 3\n",
    "cols = 3\n",
    "\n",
    "rows, cols = (3, 3)\n",
    "arr = [[0] * cols] * rows\n",
    "print(arr)"
   ]
  },
  {
   "cell_type": "markdown",
   "metadata": {},
   "source": [
    "## Traversal of a Matrix Data Structure:"
   ]
  },
  {
   "cell_type": "code",
   "execution_count": 5,
   "metadata": {},
   "outputs": [
    {
     "name": "stdout",
     "output_type": "stream",
     "text": [
      "1 2 3 4 \n",
      "5 6 7 8 \n",
      "9 10 11 12 \n"
     ]
    }
   ],
   "source": [
    "# Initializing a 2-D list with values\n",
    "arr = [\n",
    "    [1, 2, 3, 4],\n",
    "    [5, 6, 7, 8],\n",
    "    [9, 10, 11, 12]\n",
    "]\n",
    "\n",
    "for row in arr:\n",
    "    for x in row:\n",
    "        print(x, end=\" \")\n",
    "    print()"
   ]
  },
  {
   "cell_type": "markdown",
   "metadata": {},
   "source": [
    "## Searching in a Matrix Data Structure:\n",
    "\n",
    "We can search an element in a matrix by traversing all the elements of the matrix.\n"
   ]
  },
  {
   "cell_type": "code",
   "execution_count": 9,
   "metadata": {},
   "outputs": [
    {
     "name": "stdout",
     "output_type": "stream",
     "text": [
      "YES\n"
     ]
    }
   ],
   "source": [
    "def search_in_matrix(arr, x):\n",
    "    rows, cols = len(arr), len(arr[0])\n",
    "    \n",
    "    # Traverse each row and column\n",
    "    for i in range(rows):\n",
    "        for j in range(cols):\n",
    "            if arr[i][j] == x:\n",
    "                return True\n",
    "            \n",
    "    return False\n",
    "\n",
    "\n",
    "x = 8\n",
    "arr = [\n",
    "    [0, 6, 8, 9, 11],\n",
    "    [20, 22, 28, 29, 31],\n",
    "    [36, 38, 50, 61, 63],\n",
    "    [64, 66, 100, 122, 128]\n",
    "]\n",
    "\n",
    "if search_in_matrix(arr, x):\n",
    "    print(\"YES\")\n",
    "else:\n",
    "    print(\"NO\")"
   ]
  },
  {
   "cell_type": "markdown",
   "metadata": {},
   "source": [
    "# Row-wise vs column-wise traversal of matrix\n",
    "\n",
    "The following codes are showing the time difference in row major and column major access. "
   ]
  },
  {
   "cell_type": "code",
   "execution_count": null,
   "metadata": {},
   "outputs": [
    {
     "name": "stdout",
     "output_type": "stream",
     "text": [
      "Row major access time: 4.86\n",
      "Col major access time: 4.86\n"
     ]
    }
   ],
   "source": [
    "from time import perf_counter\n",
    "\n",
    "def row_major(arr):\n",
    "    rows = len(arr)\n",
    "    cols = len(arr)\n",
    "    \n",
    "    # Acessing elements row-wise\n",
    "    for i in range(rows):\n",
    "        for j in range(cols):\n",
    "            arr[i][j] += 1\n",
    "            \n",
    "def col_major(arr):\n",
    "    rows = len(arr)\n",
    "    cols = len(arr)\n",
    "    \n",
    "    for j in range(cols):\n",
    "        for i in range(rows):\n",
    "            arr[i][j] += 1\n",
    "            \n",
    "if __name__ == \"__main__\":\n",
    "    n = 1000\n",
    "    arr = [[0] * n for _ in range(n)]\n",
    "    \n",
    "    # Time taken by row-major order\n",
    "    t_start = perf_counter()\n",
    "    row_major(arr)\n",
    "    t_row = perf_counter() - t_start\n",
    "    print(f\"Row major access time: {t_row:.2f}\")\n",
    "    # Time taken by column-major order\n",
    "    t_start = perf_counter()\n",
    "    col_major(arr)\n",
    "    t_col = perf_counter() - t_start\n",
    "    print(f\"Col major access time: {t_row:.2f}\")\n",
    "    "
   ]
  },
  {
   "cell_type": "markdown",
   "metadata": {},
   "source": [
    "## Search in a Matrix or 2D Array\n",
    "\n",
    "I'ts done by traversing"
   ]
  },
  {
   "cell_type": "markdown",
   "metadata": {},
   "source": [
    "## Addition of two matrices"
   ]
  },
  {
   "cell_type": "code",
   "execution_count": 14,
   "metadata": {},
   "outputs": [
    {
     "name": "stdout",
     "output_type": "stream",
     "text": [
      "2 2 2\n",
      "4 4 4\n",
      "6 6 6\n",
      "8 8 8\n"
     ]
    }
   ],
   "source": [
    "def add(A, B):\n",
    "    n = len(A)\n",
    "    m = len(A[0])\n",
    "    \n",
    "    C = [[0] * m for _ in range(n)]\n",
    "    for i in range(n):\n",
    "        for j in range(m):\n",
    "            C[i][j] = A[i][j] + B[i][j]\n",
    "            \n",
    "    return C\n",
    "\n",
    "A = [ [1, 1, 1], [2, 2, 2], [3, 3, 3], [4, 4, 4] ]\n",
    "B = [ [1, 1, 1], [2, 2, 2], [3, 3, 3], [4, 4, 4] ]\n",
    "C = add(A, B)\n",
    "\n",
    "for row in C:\n",
    "    print(' '.join(map(str, row)))"
   ]
  },
  {
   "cell_type": "markdown",
   "metadata": {},
   "source": [
    "Time complexity: O(n x m). \n",
    "\n",
    "Auxiliary space: O(n x m).  since n2 extra space has been taken for storing results"
   ]
  },
  {
   "cell_type": "markdown",
   "metadata": {},
   "source": [
    "<!--  -->"
   ]
  },
  {
   "cell_type": "markdown",
   "metadata": {},
   "source": [
    "## Subtraction of matrices\n"
   ]
  },
  {
   "cell_type": "code",
   "execution_count": 15,
   "metadata": {},
   "outputs": [
    {
     "name": "stdout",
     "output_type": "stream",
     "text": [
      "0 1 2\n",
      "3 4 5\n"
     ]
    }
   ],
   "source": [
    "def subtract(m1, m2):\n",
    "    rows = len(m1)\n",
    "    cols = len(m1[0])\n",
    "    \n",
    "    res = [[0] * cols for _ in range(rows)]\n",
    "    for i in range(rows):\n",
    "        for j in range(cols):\n",
    "            res[i][j] = m1[i][j] - m2[i][j]\n",
    "            \n",
    "    return res\n",
    "\n",
    "if __name__ == '__main__':\n",
    "  \n",
    "    # Define two rectangular matrices\n",
    "    m1 = [[1, 2, 3], [4, 5, 6]]\n",
    "    m2 = [[1, 1, 1], [1, 1, 1]]\n",
    "\n",
    "    # Perform the subtraction\n",
    "    res = subtract(m1, m2)\n",
    "    \n",
    "for row in res:\n",
    "    print(\" \".join(map(str, row)))    "
   ]
  },
  {
   "cell_type": "markdown",
   "metadata": {},
   "source": [
    "## Multiply two matrices"
   ]
  },
  {
   "cell_type": "code",
   "execution_count": 16,
   "metadata": {},
   "outputs": [
    {
     "name": "stdout",
     "output_type": "stream",
     "text": [
      "Multiplication of given two matrices is:\n",
      "3 3\n",
      "6 6\n"
     ]
    }
   ],
   "source": [
    "def mulMat(m1, m2):\n",
    "    r1 = len(m1)\n",
    "    c1 = len(m1[0])\n",
    "    r2 = len(m2)\n",
    "    c2 = len(m2[0])\n",
    "\n",
    "    if c1 != r2:\n",
    "        print(\"Invalid Input\")\n",
    "        return None\n",
    "\n",
    "    # Initialize the result matrix with zeros\n",
    "    res = [[0] * c2 for _ in range(r1)]\n",
    "\n",
    "    # Perform matrix multiplication\n",
    "    for i in range(r1):\n",
    "        for j in range(c2):\n",
    "            for k in range(c1):\n",
    "                res[i][j] += m1[i][k] * m2[k][j]\n",
    "\n",
    "    return res\n",
    "\n",
    "# Driver code\n",
    "if __name__ == \"__main__\":\n",
    "    m1 = [\n",
    "        [1, 1],\n",
    "        [2, 2]\n",
    "    ]\n",
    "\n",
    "    m2 = [\n",
    "        [1, 1],\n",
    "        [2, 2]\n",
    "    ]\n",
    "\n",
    "    result = mulMat(m1, m2)\n",
    "\n",
    "    print(\"Multiplication of given two matrices is:\")\n",
    "    for row in result:\n",
    "        print(\" \".join(map(str, row)))"
   ]
  },
  {
   "cell_type": "markdown",
   "metadata": {},
   "source": [
    "## Sort the given matrix\n"
   ]
  },
  {
   "cell_type": "markdown",
   "metadata": {},
   "source": [
    "### Naive Approach – O(mn Log mn) Time and O(mn) Space"
   ]
  },
  {
   "cell_type": "code",
   "execution_count": 1,
   "metadata": {},
   "outputs": [
    {
     "name": "stdout",
     "output_type": "stream",
     "text": [
      "1 2 3 \n",
      "4 5 6 \n",
      "7 8 9 \n"
     ]
    }
   ],
   "source": [
    "v = [[5,4,7], [1,3,8], [2,9,6]]\n",
    "n = len(v)\n",
    "\n",
    "x = []\n",
    "\n",
    "for i in range(n):\n",
    "    for j in range(n):\n",
    "        x.append(v[i][j])\n",
    "        \n",
    "        \n",
    "x.sort()\n",
    "k = 0\n",
    "\n",
    "for i in range(n):\n",
    "    for j in range(n):\n",
    "        v[i][j] = x[k]\n",
    "        k += 1\n",
    "        \n",
    "for i in range(n):\n",
    "    for j in range(n):\n",
    "        print(v[i][j], end = \" \")\n",
    "    print()"
   ]
  },
  {
   "cell_type": "markdown",
   "metadata": {},
   "source": [
    "## Search element in a sorted matrix"
   ]
  },
  {
   "cell_type": "markdown",
   "metadata": {},
   "source": [
    "### Naive Solution – O(n*m) Time and O(1) Space"
   ]
  },
  {
   "cell_type": "code",
   "execution_count": 4,
   "metadata": {},
   "outputs": [
    {
     "name": "stdout",
     "output_type": "stream",
     "text": [
      "False\n"
     ]
    }
   ],
   "source": [
    "def searchMatrix(mat, x):\n",
    "    n = len(mat)\n",
    "    m = len(mat[0])\n",
    "    \n",
    "    for i in range(n):\n",
    "        for j in range(m):\n",
    "            if mat[i][j] == x:\n",
    "                return True\n",
    "    return False\n",
    "\n",
    "if __name__ == \"__main__\":\n",
    "    \n",
    "    mat = [\n",
    "        [1, 5, 9, 11],\n",
    "        [14, 20, 21, 26],\n",
    "        [30, 34, 43, 50]\n",
    "    ]\n",
    "    if searchMatrix(mat, 65):\n",
    "        print(\"True\")\n",
    "    else:\n",
    "        print(\"False\")"
   ]
  },
  {
   "cell_type": "markdown",
   "metadata": {},
   "source": [
    "### Using Binary Search Two Times – O(log n + log m) Time and O(1) Space\n",
    "\n",
    "First, we locate the row where the target x might be by using binary search, and then we apply binary search again within that row."
   ]
  },
  {
   "cell_type": "code",
   "execution_count": 5,
   "metadata": {},
   "outputs": [
    {
     "name": "stdout",
     "output_type": "stream",
     "text": [
      "True\n"
     ]
    }
   ],
   "source": [
    "def binarySearch(mat, row, x):\n",
    "    lo, hi = 0, len(mat[0]) - 1\n",
    "    while lo <= hi:\n",
    "        mid = (lo + hi) //2\n",
    "        if mat[row][mid] == x:\n",
    "            return True\n",
    "        elif mat[row][mid] > x:\n",
    "            hi = mid - 1\n",
    "        else:\n",
    "            lo = mid + 1\n",
    "            \n",
    "    return False\n",
    "\n",
    "def searchMatrix(mat, x):\n",
    "    n = len(mat)\n",
    "    m = len(mat[0])\n",
    "    \n",
    "    lo, hi = 0, n - 1\n",
    "    while lo <= hi:\n",
    "        mid = (lo + hi) // 2\n",
    "        \n",
    "        # Check the leftmost and rightmost elements of the row\n",
    "        if x == mat[mid][0] or x == mat[mid][m - 1]:\n",
    "            return True\n",
    "        \n",
    "        # Check if x is within the range of the current row\n",
    "        if mat[mid][0] < x < mat[mid][m - 1]:\n",
    "            return binarySearch(mat, mid, x)\n",
    "        \n",
    "        # Adjust row search boundaries\n",
    "        if x < mat[mid][0]:\n",
    "            hi = mid - 1\n",
    "        else:\n",
    "            lo = mid + 1\n",
    "            \n",
    "    return False\n",
    "\n",
    "if __name__ == \"__main__\":\n",
    "    \n",
    "    mat = [\n",
    "        [0, 6, 8, 9, 11],\n",
    "        [20, 22, 28, 29, 31],\n",
    "        [36, 38, 50, 61, 63],\n",
    "        [64, 66, 100, 122, 128]\n",
    "    ]\n",
    "    \n",
    "    x = 31\n",
    "    \n",
    "    result = searchMatrix(mat, x)\n",
    "    print(result)        "
   ]
  },
  {
   "cell_type": "markdown",
   "metadata": {},
   "source": [
    "### Using One Binary Search – O(log(n*m)) and O(1) Space\n",
    "\n",
    "The idea is to consider the given array as 1 D array and apply only one binary search. "
   ]
  },
  {
   "cell_type": "code",
   "execution_count": 7,
   "metadata": {},
   "outputs": [
    {
     "name": "stdout",
     "output_type": "stream",
     "text": [
      "False\n"
     ]
    }
   ],
   "source": [
    "def searchMatrix(mat, x):\n",
    "    n = len(mat)\n",
    "    m = len(mat[0])\n",
    "    \n",
    "    lo, hi = 0, n * m - 1\n",
    "    while lo <= hi:\n",
    "        mid = (lo + hi) //2\n",
    "        row = mid // m\n",
    "        col = mid % m\n",
    "        if mat[row][col] == x:\n",
    "            return True\n",
    "        elif mat[row][col] < x:\n",
    "            lo = mid + 1\n",
    "        else:\n",
    "            hi = mid - 1\n",
    "    return False\n",
    "\n",
    "if __name__ == \"__main__\":\n",
    "    \n",
    "    mat = [\n",
    "        [0, 6, 8, 9, 11],\n",
    "        [20, 22, 28, 29, 31],\n",
    "        [36, 38, 50, 61, 63],\n",
    "        [64, 66, 100, 122, 128]\n",
    "    ]\n",
    "    x = 71\n",
    "    \n",
    "    result = searchMatrix(mat, x)\n",
    "    print(result)        "
   ]
  },
  {
   "cell_type": "markdown",
   "metadata": {},
   "source": [
    "## Traverse a given Matrix using Recursion"
   ]
  },
  {
   "cell_type": "code",
   "execution_count": 8,
   "metadata": {},
   "outputs": [
    {
     "name": "stdout",
     "output_type": "stream",
     "text": [
      "1 2 3 4 5 6 7 8 9\n"
     ]
    }
   ],
   "source": [
    "def tarverse(mat, i, j):\n",
    "    \n",
    "    # If the current position is the bottom right corner of the matrix\n",
    "    if i == len(mat) - 1 and j == len(mat[0]) -1:\n",
    "        print(mat[i][j])\n",
    "        return\n",
    "    \n",
    "    # Print the value at the current position\n",
    "    print(mat[i][j], end = \" \")\n",
    "    \n",
    "    # If the end of the current row has not been reached\n",
    "    if j < len(mat[0]) - 1:\n",
    "        # Move right\n",
    "        tarverse(mat, i, j + 1)\n",
    "        \n",
    "    # If the end of the current column has been reached\n",
    "    elif i < len(mat) - 1:\n",
    "        \n",
    "        # Move down to the next row\n",
    "        tarverse(mat, i + 1, 0)\n",
    "        \n",
    "mat = [[1, 2, 3], [4, 5, 6], [7, 8, 9]]\n",
    "tarverse(mat, 0, 0)"
   ]
  },
  {
   "cell_type": "code",
   "execution_count": null,
   "metadata": {},
   "outputs": [],
   "source": []
  }
 ],
 "metadata": {
  "kernelspec": {
   "display_name": "DScience",
   "language": "python",
   "name": "dscience"
  },
  "language_info": {
   "codemirror_mode": {
    "name": "ipython",
    "version": 3
   },
   "file_extension": ".py",
   "mimetype": "text/x-python",
   "name": "python",
   "nbconvert_exporter": "python",
   "pygments_lexer": "ipython3",
   "version": "3.10.4"
  }
 },
 "nbformat": 4,
 "nbformat_minor": 2
}
